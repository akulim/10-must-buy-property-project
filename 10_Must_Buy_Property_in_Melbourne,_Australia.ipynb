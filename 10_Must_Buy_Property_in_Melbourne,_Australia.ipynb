{
  "nbformat": 4,
  "nbformat_minor": 0,
  "metadata": {
    "colab": {
      "name": "10 Must Buy Property in Melbourne, Australia.ipynb",
      "provenance": [],
      "collapsed_sections": []
    },
    "kernelspec": {
      "name": "python3",
      "display_name": "Python 3"
    },
    "language_info": {
      "name": "python"
    }
  },
  "cells": [
    {
      "cell_type": "code",
      "source": [
        "#importing library\n",
        "import pandas as pd\n",
        "import matplotlib.pyplot as plt\n",
        "import seaborn as sns"
      ],
      "metadata": {
        "id": "3-ZtEx2EYYrB"
      },
      "execution_count": null,
      "outputs": []
    },
    {
      "cell_type": "code",
      "execution_count": null,
      "metadata": {
        "colab": {
          "base_uri": "https://localhost:8080/"
        },
        "id": "chk6x3fXVukU",
        "outputId": "f963d15c-2994-4b27-97b9-94c434e608c0"
      },
      "outputs": [
        {
          "output_type": "stream",
          "name": "stdout",
          "text": [
            "Mounted at /content/drive\n"
          ]
        }
      ],
      "source": [
        "#mount drive to get file from the GDrive folder\n",
        "from google.colab import drive\n",
        "drive.mount('/content/drive', force_remount=True)"
      ]
    },
    {
      "cell_type": "markdown",
      "source": [
        "##Dataset"
      ],
      "metadata": {
        "id": "ke-RBtthI4R1"
      }
    },
    {
      "cell_type": "code",
      "source": [
        "#read the file\n",
        "df = pd.read_csv('/content/drive/My Drive/data/melb_data.csv')\n",
        "\n",
        "df.head()"
      ],
      "metadata": {
        "colab": {
          "base_uri": "https://localhost:8080/",
          "height": 421
        },
        "id": "RfPJ4bWXYpcX",
        "outputId": "9c3515ec-2c3d-40e9-a364-aa2256b3e589"
      },
      "execution_count": null,
      "outputs": [
        {
          "output_type": "execute_result",
          "data": {
            "text/plain": [
              "       Suburb           Address  Rooms Type      Price Method SellerG  \\\n",
              "0  Abbotsford      85 Turner St      2    h  1480000.0      S  Biggin   \n",
              "1  Abbotsford   25 Bloomburg St      2    h  1035000.0      S  Biggin   \n",
              "2  Abbotsford      5 Charles St      3    h  1465000.0     SP  Biggin   \n",
              "3  Abbotsford  40 Federation La      3    h   850000.0     PI  Biggin   \n",
              "4  Abbotsford       55a Park St      4    h  1600000.0     VB  Nelson   \n",
              "\n",
              "        Date  Distance  Postcode  ...  Bathroom  Car  Landsize  BuildingArea  \\\n",
              "0  3/12/2016       2.5    3067.0  ...       1.0  1.0     202.0           NaN   \n",
              "1  4/02/2016       2.5    3067.0  ...       1.0  0.0     156.0          79.0   \n",
              "2  4/03/2017       2.5    3067.0  ...       2.0  0.0     134.0         150.0   \n",
              "3  4/03/2017       2.5    3067.0  ...       2.0  1.0      94.0           NaN   \n",
              "4  4/06/2016       2.5    3067.0  ...       1.0  2.0     120.0         142.0   \n",
              "\n",
              "   YearBuilt  CouncilArea Lattitude  Longtitude             Regionname  \\\n",
              "0        NaN        Yarra  -37.7996    144.9984  Northern Metropolitan   \n",
              "1     1900.0        Yarra  -37.8079    144.9934  Northern Metropolitan   \n",
              "2     1900.0        Yarra  -37.8093    144.9944  Northern Metropolitan   \n",
              "3        NaN        Yarra  -37.7969    144.9969  Northern Metropolitan   \n",
              "4     2014.0        Yarra  -37.8072    144.9941  Northern Metropolitan   \n",
              "\n",
              "  Propertycount  \n",
              "0        4019.0  \n",
              "1        4019.0  \n",
              "2        4019.0  \n",
              "3        4019.0  \n",
              "4        4019.0  \n",
              "\n",
              "[5 rows x 21 columns]"
            ],
            "text/html": [
              "\n",
              "  <div id=\"df-d7f18384-3c32-4ace-a852-7cb3a29bbf61\">\n",
              "    <div class=\"colab-df-container\">\n",
              "      <div>\n",
              "<style scoped>\n",
              "    .dataframe tbody tr th:only-of-type {\n",
              "        vertical-align: middle;\n",
              "    }\n",
              "\n",
              "    .dataframe tbody tr th {\n",
              "        vertical-align: top;\n",
              "    }\n",
              "\n",
              "    .dataframe thead th {\n",
              "        text-align: right;\n",
              "    }\n",
              "</style>\n",
              "<table border=\"1\" class=\"dataframe\">\n",
              "  <thead>\n",
              "    <tr style=\"text-align: right;\">\n",
              "      <th></th>\n",
              "      <th>Suburb</th>\n",
              "      <th>Address</th>\n",
              "      <th>Rooms</th>\n",
              "      <th>Type</th>\n",
              "      <th>Price</th>\n",
              "      <th>Method</th>\n",
              "      <th>SellerG</th>\n",
              "      <th>Date</th>\n",
              "      <th>Distance</th>\n",
              "      <th>Postcode</th>\n",
              "      <th>...</th>\n",
              "      <th>Bathroom</th>\n",
              "      <th>Car</th>\n",
              "      <th>Landsize</th>\n",
              "      <th>BuildingArea</th>\n",
              "      <th>YearBuilt</th>\n",
              "      <th>CouncilArea</th>\n",
              "      <th>Lattitude</th>\n",
              "      <th>Longtitude</th>\n",
              "      <th>Regionname</th>\n",
              "      <th>Propertycount</th>\n",
              "    </tr>\n",
              "  </thead>\n",
              "  <tbody>\n",
              "    <tr>\n",
              "      <th>0</th>\n",
              "      <td>Abbotsford</td>\n",
              "      <td>85 Turner St</td>\n",
              "      <td>2</td>\n",
              "      <td>h</td>\n",
              "      <td>1480000.0</td>\n",
              "      <td>S</td>\n",
              "      <td>Biggin</td>\n",
              "      <td>3/12/2016</td>\n",
              "      <td>2.5</td>\n",
              "      <td>3067.0</td>\n",
              "      <td>...</td>\n",
              "      <td>1.0</td>\n",
              "      <td>1.0</td>\n",
              "      <td>202.0</td>\n",
              "      <td>NaN</td>\n",
              "      <td>NaN</td>\n",
              "      <td>Yarra</td>\n",
              "      <td>-37.7996</td>\n",
              "      <td>144.9984</td>\n",
              "      <td>Northern Metropolitan</td>\n",
              "      <td>4019.0</td>\n",
              "    </tr>\n",
              "    <tr>\n",
              "      <th>1</th>\n",
              "      <td>Abbotsford</td>\n",
              "      <td>25 Bloomburg St</td>\n",
              "      <td>2</td>\n",
              "      <td>h</td>\n",
              "      <td>1035000.0</td>\n",
              "      <td>S</td>\n",
              "      <td>Biggin</td>\n",
              "      <td>4/02/2016</td>\n",
              "      <td>2.5</td>\n",
              "      <td>3067.0</td>\n",
              "      <td>...</td>\n",
              "      <td>1.0</td>\n",
              "      <td>0.0</td>\n",
              "      <td>156.0</td>\n",
              "      <td>79.0</td>\n",
              "      <td>1900.0</td>\n",
              "      <td>Yarra</td>\n",
              "      <td>-37.8079</td>\n",
              "      <td>144.9934</td>\n",
              "      <td>Northern Metropolitan</td>\n",
              "      <td>4019.0</td>\n",
              "    </tr>\n",
              "    <tr>\n",
              "      <th>2</th>\n",
              "      <td>Abbotsford</td>\n",
              "      <td>5 Charles St</td>\n",
              "      <td>3</td>\n",
              "      <td>h</td>\n",
              "      <td>1465000.0</td>\n",
              "      <td>SP</td>\n",
              "      <td>Biggin</td>\n",
              "      <td>4/03/2017</td>\n",
              "      <td>2.5</td>\n",
              "      <td>3067.0</td>\n",
              "      <td>...</td>\n",
              "      <td>2.0</td>\n",
              "      <td>0.0</td>\n",
              "      <td>134.0</td>\n",
              "      <td>150.0</td>\n",
              "      <td>1900.0</td>\n",
              "      <td>Yarra</td>\n",
              "      <td>-37.8093</td>\n",
              "      <td>144.9944</td>\n",
              "      <td>Northern Metropolitan</td>\n",
              "      <td>4019.0</td>\n",
              "    </tr>\n",
              "    <tr>\n",
              "      <th>3</th>\n",
              "      <td>Abbotsford</td>\n",
              "      <td>40 Federation La</td>\n",
              "      <td>3</td>\n",
              "      <td>h</td>\n",
              "      <td>850000.0</td>\n",
              "      <td>PI</td>\n",
              "      <td>Biggin</td>\n",
              "      <td>4/03/2017</td>\n",
              "      <td>2.5</td>\n",
              "      <td>3067.0</td>\n",
              "      <td>...</td>\n",
              "      <td>2.0</td>\n",
              "      <td>1.0</td>\n",
              "      <td>94.0</td>\n",
              "      <td>NaN</td>\n",
              "      <td>NaN</td>\n",
              "      <td>Yarra</td>\n",
              "      <td>-37.7969</td>\n",
              "      <td>144.9969</td>\n",
              "      <td>Northern Metropolitan</td>\n",
              "      <td>4019.0</td>\n",
              "    </tr>\n",
              "    <tr>\n",
              "      <th>4</th>\n",
              "      <td>Abbotsford</td>\n",
              "      <td>55a Park St</td>\n",
              "      <td>4</td>\n",
              "      <td>h</td>\n",
              "      <td>1600000.0</td>\n",
              "      <td>VB</td>\n",
              "      <td>Nelson</td>\n",
              "      <td>4/06/2016</td>\n",
              "      <td>2.5</td>\n",
              "      <td>3067.0</td>\n",
              "      <td>...</td>\n",
              "      <td>1.0</td>\n",
              "      <td>2.0</td>\n",
              "      <td>120.0</td>\n",
              "      <td>142.0</td>\n",
              "      <td>2014.0</td>\n",
              "      <td>Yarra</td>\n",
              "      <td>-37.8072</td>\n",
              "      <td>144.9941</td>\n",
              "      <td>Northern Metropolitan</td>\n",
              "      <td>4019.0</td>\n",
              "    </tr>\n",
              "  </tbody>\n",
              "</table>\n",
              "<p>5 rows × 21 columns</p>\n",
              "</div>\n",
              "      <button class=\"colab-df-convert\" onclick=\"convertToInteractive('df-d7f18384-3c32-4ace-a852-7cb3a29bbf61')\"\n",
              "              title=\"Convert this dataframe to an interactive table.\"\n",
              "              style=\"display:none;\">\n",
              "        \n",
              "  <svg xmlns=\"http://www.w3.org/2000/svg\" height=\"24px\"viewBox=\"0 0 24 24\"\n",
              "       width=\"24px\">\n",
              "    <path d=\"M0 0h24v24H0V0z\" fill=\"none\"/>\n",
              "    <path d=\"M18.56 5.44l.94 2.06.94-2.06 2.06-.94-2.06-.94-.94-2.06-.94 2.06-2.06.94zm-11 1L8.5 8.5l.94-2.06 2.06-.94-2.06-.94L8.5 2.5l-.94 2.06-2.06.94zm10 10l.94 2.06.94-2.06 2.06-.94-2.06-.94-.94-2.06-.94 2.06-2.06.94z\"/><path d=\"M17.41 7.96l-1.37-1.37c-.4-.4-.92-.59-1.43-.59-.52 0-1.04.2-1.43.59L10.3 9.45l-7.72 7.72c-.78.78-.78 2.05 0 2.83L4 21.41c.39.39.9.59 1.41.59.51 0 1.02-.2 1.41-.59l7.78-7.78 2.81-2.81c.8-.78.8-2.07 0-2.86zM5.41 20L4 18.59l7.72-7.72 1.47 1.35L5.41 20z\"/>\n",
              "  </svg>\n",
              "      </button>\n",
              "      \n",
              "  <style>\n",
              "    .colab-df-container {\n",
              "      display:flex;\n",
              "      flex-wrap:wrap;\n",
              "      gap: 12px;\n",
              "    }\n",
              "\n",
              "    .colab-df-convert {\n",
              "      background-color: #E8F0FE;\n",
              "      border: none;\n",
              "      border-radius: 50%;\n",
              "      cursor: pointer;\n",
              "      display: none;\n",
              "      fill: #1967D2;\n",
              "      height: 32px;\n",
              "      padding: 0 0 0 0;\n",
              "      width: 32px;\n",
              "    }\n",
              "\n",
              "    .colab-df-convert:hover {\n",
              "      background-color: #E2EBFA;\n",
              "      box-shadow: 0px 1px 2px rgba(60, 64, 67, 0.3), 0px 1px 3px 1px rgba(60, 64, 67, 0.15);\n",
              "      fill: #174EA6;\n",
              "    }\n",
              "\n",
              "    [theme=dark] .colab-df-convert {\n",
              "      background-color: #3B4455;\n",
              "      fill: #D2E3FC;\n",
              "    }\n",
              "\n",
              "    [theme=dark] .colab-df-convert:hover {\n",
              "      background-color: #434B5C;\n",
              "      box-shadow: 0px 1px 3px 1px rgba(0, 0, 0, 0.15);\n",
              "      filter: drop-shadow(0px 1px 2px rgba(0, 0, 0, 0.3));\n",
              "      fill: #FFFFFF;\n",
              "    }\n",
              "  </style>\n",
              "\n",
              "      <script>\n",
              "        const buttonEl =\n",
              "          document.querySelector('#df-d7f18384-3c32-4ace-a852-7cb3a29bbf61 button.colab-df-convert');\n",
              "        buttonEl.style.display =\n",
              "          google.colab.kernel.accessAllowed ? 'block' : 'none';\n",
              "\n",
              "        async function convertToInteractive(key) {\n",
              "          const element = document.querySelector('#df-d7f18384-3c32-4ace-a852-7cb3a29bbf61');\n",
              "          const dataTable =\n",
              "            await google.colab.kernel.invokeFunction('convertToInteractive',\n",
              "                                                     [key], {});\n",
              "          if (!dataTable) return;\n",
              "\n",
              "          const docLinkHtml = 'Like what you see? Visit the ' +\n",
              "            '<a target=\"_blank\" href=https://colab.research.google.com/notebooks/data_table.ipynb>data table notebook</a>'\n",
              "            + ' to learn more about interactive tables.';\n",
              "          element.innerHTML = '';\n",
              "          dataTable['output_type'] = 'display_data';\n",
              "          await google.colab.output.renderOutput(dataTable, element);\n",
              "          const docLink = document.createElement('div');\n",
              "          docLink.innerHTML = docLinkHtml;\n",
              "          element.appendChild(docLink);\n",
              "        }\n",
              "      </script>\n",
              "    </div>\n",
              "  </div>\n",
              "  "
            ]
          },
          "metadata": {},
          "execution_count": 3
        }
      ]
    },
    {
      "cell_type": "code",
      "source": [
        "df.info()"
      ],
      "metadata": {
        "colab": {
          "base_uri": "https://localhost:8080/"
        },
        "id": "g6dnZOOqcO9P",
        "outputId": "b241ceda-a14a-42e8-a16c-bab1aa8a1d0b"
      },
      "execution_count": null,
      "outputs": [
        {
          "output_type": "stream",
          "name": "stdout",
          "text": [
            "<class 'pandas.core.frame.DataFrame'>\n",
            "RangeIndex: 13580 entries, 0 to 13579\n",
            "Data columns (total 21 columns):\n",
            " #   Column         Non-Null Count  Dtype  \n",
            "---  ------         --------------  -----  \n",
            " 0   Suburb         13580 non-null  object \n",
            " 1   Address        13580 non-null  object \n",
            " 2   Rooms          13580 non-null  int64  \n",
            " 3   Type           13580 non-null  object \n",
            " 4   Price          13580 non-null  float64\n",
            " 5   Method         13580 non-null  object \n",
            " 6   SellerG        13580 non-null  object \n",
            " 7   Date           13580 non-null  object \n",
            " 8   Distance       13580 non-null  float64\n",
            " 9   Postcode       13580 non-null  float64\n",
            " 10  Bedroom2       13580 non-null  float64\n",
            " 11  Bathroom       13580 non-null  float64\n",
            " 12  Car            13518 non-null  float64\n",
            " 13  Landsize       13580 non-null  float64\n",
            " 14  BuildingArea   7130 non-null   float64\n",
            " 15  YearBuilt      8205 non-null   float64\n",
            " 16  CouncilArea    12211 non-null  object \n",
            " 17  Lattitude      13580 non-null  float64\n",
            " 18  Longtitude     13580 non-null  float64\n",
            " 19  Regionname     13580 non-null  object \n",
            " 20  Propertycount  13580 non-null  float64\n",
            "dtypes: float64(12), int64(1), object(8)\n",
            "memory usage: 2.2+ MB\n"
          ]
        }
      ]
    },
    {
      "cell_type": "code",
      "source": [
        "# Identify the total of null value\n",
        "df.isnull().sum()"
      ],
      "metadata": {
        "colab": {
          "base_uri": "https://localhost:8080/"
        },
        "id": "VDvCvZfPZKc-",
        "outputId": "9fe9f084-cd1a-48a1-dd0f-007c78ad0c24"
      },
      "execution_count": null,
      "outputs": [
        {
          "output_type": "execute_result",
          "data": {
            "text/plain": [
              "Suburb              0\n",
              "Address             0\n",
              "Rooms               0\n",
              "Type                0\n",
              "Price               0\n",
              "Method              0\n",
              "SellerG             0\n",
              "Date                0\n",
              "Distance            0\n",
              "Postcode            0\n",
              "Bedroom2            0\n",
              "Bathroom            0\n",
              "Car                62\n",
              "Landsize            0\n",
              "BuildingArea     6450\n",
              "YearBuilt        5375\n",
              "CouncilArea      1369\n",
              "Lattitude           0\n",
              "Longtitude          0\n",
              "Regionname          0\n",
              "Propertycount       0\n",
              "dtype: int64"
            ]
          },
          "metadata": {},
          "execution_count": 5
        }
      ]
    },
    {
      "cell_type": "markdown",
      "source": [
        "Because there are 4 columns with null values, those columns (Car, BuildingArea, YearBuilt, CouncilArea) will not be considered as parameter in this project."
      ],
      "metadata": {
        "id": "DoFPk_MbO4PV"
      }
    },
    {
      "cell_type": "code",
      "source": [
        "#Identify which region is the nearest to the CBD Area with 'Distance' column\n",
        "\n",
        "nearest_dist = df.groupby(['Regionname'])['Distance'].mean()\n",
        "nearest_dist"
      ],
      "metadata": {
        "colab": {
          "base_uri": "https://localhost:8080/"
        },
        "id": "zuMFNg33Mt9f",
        "outputId": "77d3afcc-2f29-4bba-aa00-28fffa39f8fc"
      },
      "execution_count": null,
      "outputs": [
        {
          "output_type": "execute_result",
          "data": {
            "text/plain": [
              "Regionname\n",
              "Eastern Metropolitan          13.901088\n",
              "Eastern Victoria              34.209434\n",
              "Northern Metropolitan          8.078329\n",
              "Northern Victoria             33.748780\n",
              "South-Eastern Metropolitan    23.813556\n",
              "Southern Metropolitan          8.756656\n",
              "Western Metropolitan          10.104579\n",
              "Western Victoria              30.753125\n",
              "Name: Distance, dtype: float64"
            ]
          },
          "metadata": {},
          "execution_count": 23
        }
      ]
    },
    {
      "cell_type": "markdown",
      "source": [
        "The nearest region is Northern Metropolitan."
      ],
      "metadata": {
        "id": "SARUe4SUPNeP"
      }
    },
    {
      "cell_type": "code",
      "source": [
        "# Pick data only within region Northern Metropolitan\n",
        "\n",
        "north_m = df[df['Regionname'] == 'Northern Metropolitan']\n",
        "north_m.shape"
      ],
      "metadata": {
        "colab": {
          "base_uri": "https://localhost:8080/"
        },
        "id": "CkWJI87GPLPi",
        "outputId": "023b5105-92b7-498e-9186-9b891b8c1df5"
      },
      "execution_count": null,
      "outputs": [
        {
          "output_type": "execute_result",
          "data": {
            "text/plain": [
              "(3890, 21)"
            ]
          },
          "metadata": {},
          "execution_count": 40
        }
      ]
    },
    {
      "cell_type": "code",
      "source": [
        "#Identify which type of property is sold in Northern Metropolitan Area\n",
        "#The property that already sold are those under the methods: S, SP, and SA.\n",
        "\n",
        "north_m_sold = north_m[(north_m['Method'] == 'S') | (north_m['Method'] == 'SP') | (north_m['Method'] == 'SA')]\n",
        "north_m_sold.info()"
      ],
      "metadata": {
        "colab": {
          "base_uri": "https://localhost:8080/"
        },
        "id": "Z5Av5f0fRQvq",
        "outputId": "4886cf5d-fd27-4e4d-878f-fd2610ef33ac"
      },
      "execution_count": null,
      "outputs": [
        {
          "output_type": "stream",
          "name": "stdout",
          "text": [
            "<class 'pandas.core.frame.DataFrame'>\n",
            "Int64Index: 3212 entries, 0 to 13574\n",
            "Data columns (total 21 columns):\n",
            " #   Column         Non-Null Count  Dtype  \n",
            "---  ------         --------------  -----  \n",
            " 0   Suburb         3212 non-null   object \n",
            " 1   Address        3212 non-null   object \n",
            " 2   Rooms          3212 non-null   int64  \n",
            " 3   Type           3212 non-null   object \n",
            " 4   Price          3212 non-null   float64\n",
            " 5   Method         3212 non-null   object \n",
            " 6   SellerG        3212 non-null   object \n",
            " 7   Date           3212 non-null   object \n",
            " 8   Distance       3212 non-null   float64\n",
            " 9   Postcode       3212 non-null   float64\n",
            " 10  Bedroom2       3212 non-null   float64\n",
            " 11  Bathroom       3212 non-null   float64\n",
            " 12  Car            3197 non-null   float64\n",
            " 13  Landsize       3212 non-null   float64\n",
            " 14  BuildingArea   1729 non-null   float64\n",
            " 15  YearBuilt      1960 non-null   float64\n",
            " 16  CouncilArea    2934 non-null   object \n",
            " 17  Lattitude      3212 non-null   float64\n",
            " 18  Longtitude     3212 non-null   float64\n",
            " 19  Regionname     3212 non-null   object \n",
            " 20  Propertycount  3212 non-null   float64\n",
            "dtypes: float64(12), int64(1), object(8)\n",
            "memory usage: 552.1+ KB\n"
          ]
        }
      ]
    },
    {
      "cell_type": "markdown",
      "source": [
        "###Property Sold"
      ],
      "metadata": {
        "id": "LFcKKLnujl6U"
      }
    },
    {
      "cell_type": "code",
      "source": [
        "#Identifying type of property that are sold.\n",
        "\n",
        "north_m_sales = north_m_sold.groupby(['Method', 'Type'])['Method'].count()\n",
        "north_m_sales.unstack()"
      ],
      "metadata": {
        "colab": {
          "base_uri": "https://localhost:8080/",
          "height": 175
        },
        "id": "jmB7O7vYSUFD",
        "outputId": "2d24b8a3-fd73-4b5a-9d75-5337ec2f9da6"
      },
      "execution_count": null,
      "outputs": [
        {
          "output_type": "execute_result",
          "data": {
            "text/plain": [
              "Type       h    t    u\n",
              "Method                \n",
              "S       1995  198  464\n",
              "SA        12    1    4\n",
              "SP       321   41  176"
            ],
            "text/html": [
              "\n",
              "  <div id=\"df-ede40d56-d128-4be4-b55c-72fb2664453f\">\n",
              "    <div class=\"colab-df-container\">\n",
              "      <div>\n",
              "<style scoped>\n",
              "    .dataframe tbody tr th:only-of-type {\n",
              "        vertical-align: middle;\n",
              "    }\n",
              "\n",
              "    .dataframe tbody tr th {\n",
              "        vertical-align: top;\n",
              "    }\n",
              "\n",
              "    .dataframe thead th {\n",
              "        text-align: right;\n",
              "    }\n",
              "</style>\n",
              "<table border=\"1\" class=\"dataframe\">\n",
              "  <thead>\n",
              "    <tr style=\"text-align: right;\">\n",
              "      <th>Type</th>\n",
              "      <th>h</th>\n",
              "      <th>t</th>\n",
              "      <th>u</th>\n",
              "    </tr>\n",
              "    <tr>\n",
              "      <th>Method</th>\n",
              "      <th></th>\n",
              "      <th></th>\n",
              "      <th></th>\n",
              "    </tr>\n",
              "  </thead>\n",
              "  <tbody>\n",
              "    <tr>\n",
              "      <th>S</th>\n",
              "      <td>1995</td>\n",
              "      <td>198</td>\n",
              "      <td>464</td>\n",
              "    </tr>\n",
              "    <tr>\n",
              "      <th>SA</th>\n",
              "      <td>12</td>\n",
              "      <td>1</td>\n",
              "      <td>4</td>\n",
              "    </tr>\n",
              "    <tr>\n",
              "      <th>SP</th>\n",
              "      <td>321</td>\n",
              "      <td>41</td>\n",
              "      <td>176</td>\n",
              "    </tr>\n",
              "  </tbody>\n",
              "</table>\n",
              "</div>\n",
              "      <button class=\"colab-df-convert\" onclick=\"convertToInteractive('df-ede40d56-d128-4be4-b55c-72fb2664453f')\"\n",
              "              title=\"Convert this dataframe to an interactive table.\"\n",
              "              style=\"display:none;\">\n",
              "        \n",
              "  <svg xmlns=\"http://www.w3.org/2000/svg\" height=\"24px\"viewBox=\"0 0 24 24\"\n",
              "       width=\"24px\">\n",
              "    <path d=\"M0 0h24v24H0V0z\" fill=\"none\"/>\n",
              "    <path d=\"M18.56 5.44l.94 2.06.94-2.06 2.06-.94-2.06-.94-.94-2.06-.94 2.06-2.06.94zm-11 1L8.5 8.5l.94-2.06 2.06-.94-2.06-.94L8.5 2.5l-.94 2.06-2.06.94zm10 10l.94 2.06.94-2.06 2.06-.94-2.06-.94-.94-2.06-.94 2.06-2.06.94z\"/><path d=\"M17.41 7.96l-1.37-1.37c-.4-.4-.92-.59-1.43-.59-.52 0-1.04.2-1.43.59L10.3 9.45l-7.72 7.72c-.78.78-.78 2.05 0 2.83L4 21.41c.39.39.9.59 1.41.59.51 0 1.02-.2 1.41-.59l7.78-7.78 2.81-2.81c.8-.78.8-2.07 0-2.86zM5.41 20L4 18.59l7.72-7.72 1.47 1.35L5.41 20z\"/>\n",
              "  </svg>\n",
              "      </button>\n",
              "      \n",
              "  <style>\n",
              "    .colab-df-container {\n",
              "      display:flex;\n",
              "      flex-wrap:wrap;\n",
              "      gap: 12px;\n",
              "    }\n",
              "\n",
              "    .colab-df-convert {\n",
              "      background-color: #E8F0FE;\n",
              "      border: none;\n",
              "      border-radius: 50%;\n",
              "      cursor: pointer;\n",
              "      display: none;\n",
              "      fill: #1967D2;\n",
              "      height: 32px;\n",
              "      padding: 0 0 0 0;\n",
              "      width: 32px;\n",
              "    }\n",
              "\n",
              "    .colab-df-convert:hover {\n",
              "      background-color: #E2EBFA;\n",
              "      box-shadow: 0px 1px 2px rgba(60, 64, 67, 0.3), 0px 1px 3px 1px rgba(60, 64, 67, 0.15);\n",
              "      fill: #174EA6;\n",
              "    }\n",
              "\n",
              "    [theme=dark] .colab-df-convert {\n",
              "      background-color: #3B4455;\n",
              "      fill: #D2E3FC;\n",
              "    }\n",
              "\n",
              "    [theme=dark] .colab-df-convert:hover {\n",
              "      background-color: #434B5C;\n",
              "      box-shadow: 0px 1px 3px 1px rgba(0, 0, 0, 0.15);\n",
              "      filter: drop-shadow(0px 1px 2px rgba(0, 0, 0, 0.3));\n",
              "      fill: #FFFFFF;\n",
              "    }\n",
              "  </style>\n",
              "\n",
              "      <script>\n",
              "        const buttonEl =\n",
              "          document.querySelector('#df-ede40d56-d128-4be4-b55c-72fb2664453f button.colab-df-convert');\n",
              "        buttonEl.style.display =\n",
              "          google.colab.kernel.accessAllowed ? 'block' : 'none';\n",
              "\n",
              "        async function convertToInteractive(key) {\n",
              "          const element = document.querySelector('#df-ede40d56-d128-4be4-b55c-72fb2664453f');\n",
              "          const dataTable =\n",
              "            await google.colab.kernel.invokeFunction('convertToInteractive',\n",
              "                                                     [key], {});\n",
              "          if (!dataTable) return;\n",
              "\n",
              "          const docLinkHtml = 'Like what you see? Visit the ' +\n",
              "            '<a target=\"_blank\" href=https://colab.research.google.com/notebooks/data_table.ipynb>data table notebook</a>'\n",
              "            + ' to learn more about interactive tables.';\n",
              "          element.innerHTML = '';\n",
              "          dataTable['output_type'] = 'display_data';\n",
              "          await google.colab.output.renderOutput(dataTable, element);\n",
              "          const docLink = document.createElement('div');\n",
              "          docLink.innerHTML = docLinkHtml;\n",
              "          element.appendChild(docLink);\n",
              "        }\n",
              "      </script>\n",
              "    </div>\n",
              "  </div>\n",
              "  "
            ]
          },
          "metadata": {},
          "execution_count": 62
        }
      ]
    },
    {
      "cell_type": "markdown",
      "source": [
        "**The most sold type is 'h' or housing.**"
      ],
      "metadata": {
        "id": "x3UZr_dcTw28"
      }
    },
    {
      "cell_type": "code",
      "source": [
        "# Property h type\n",
        "\n",
        "north_m_sold_h = north_m_sold[north_m_sold['Type'] == 'h']\n",
        "north_m_sold_h.info()"
      ],
      "metadata": {
        "colab": {
          "base_uri": "https://localhost:8080/"
        },
        "id": "SQ_TrkLSjOEh",
        "outputId": "37512e79-7697-4992-d0ca-0c8cf5509c51"
      },
      "execution_count": null,
      "outputs": [
        {
          "output_type": "stream",
          "name": "stdout",
          "text": [
            "<class 'pandas.core.frame.DataFrame'>\n",
            "Int64Index: 2328 entries, 0 to 13574\n",
            "Data columns (total 21 columns):\n",
            " #   Column         Non-Null Count  Dtype  \n",
            "---  ------         --------------  -----  \n",
            " 0   Suburb         2328 non-null   object \n",
            " 1   Address        2328 non-null   object \n",
            " 2   Rooms          2328 non-null   int64  \n",
            " 3   Type           2328 non-null   object \n",
            " 4   Price          2328 non-null   float64\n",
            " 5   Method         2328 non-null   object \n",
            " 6   SellerG        2328 non-null   object \n",
            " 7   Date           2328 non-null   object \n",
            " 8   Distance       2328 non-null   float64\n",
            " 9   Postcode       2328 non-null   float64\n",
            " 10  Bedroom2       2328 non-null   float64\n",
            " 11  Bathroom       2328 non-null   float64\n",
            " 12  Car            2314 non-null   float64\n",
            " 13  Landsize       2328 non-null   float64\n",
            " 14  BuildingArea   1186 non-null   float64\n",
            " 15  YearBuilt      1319 non-null   float64\n",
            " 16  CouncilArea    2077 non-null   object \n",
            " 17  Lattitude      2328 non-null   float64\n",
            " 18  Longtitude     2328 non-null   float64\n",
            " 19  Regionname     2328 non-null   object \n",
            " 20  Propertycount  2328 non-null   float64\n",
            "dtypes: float64(12), int64(1), object(8)\n",
            "memory usage: 400.1+ KB\n"
          ]
        }
      ]
    },
    {
      "cell_type": "code",
      "source": [
        "# Criteria based on Bedroom and Rooms available in the property\n",
        "\n",
        "north_m_sold_h.groupby(['Rooms', 'Bedroom2'])['Type'].count().plot(kind=\"bar\", color='#FDAF75')"
      ],
      "metadata": {
        "colab": {
          "base_uri": "https://localhost:8080/",
          "height": 324
        },
        "id": "740RtWnCkBB6",
        "outputId": "5a41076b-6572-46f5-ca62-6044ed43df7a"
      },
      "execution_count": null,
      "outputs": [
        {
          "output_type": "execute_result",
          "data": {
            "text/plain": [
              "<matplotlib.axes._subplots.AxesSubplot at 0x7fa286b9ccd0>"
            ]
          },
          "metadata": {},
          "execution_count": 198
        },
        {
          "output_type": "display_data",
          "data": {
            "text/plain": [
              "<Figure size 432x288 with 1 Axes>"
            ],
            "image/png": "[encoded data removed]"
          },
          "metadata": {
            "needs_background": "light"
          }
        }
      ]
    },
    {
      "cell_type": "code",
      "source": [
        "north_m_sold_h.plot('Price', 'Distance', kind = 'scatter', color='#FDAF75')"
      ],
      "metadata": {
        "colab": {
          "base_uri": "https://localhost:8080/",
          "height": 297
        },
        "id": "II1-FHRZn9za",
        "outputId": "eb8a9d68-dd4c-4011-e7b5-1b1c5cd612bf"
      },
      "execution_count": null,
      "outputs": [
        {
          "output_type": "execute_result",
          "data": {
            "text/plain": [
              "<matplotlib.axes._subplots.AxesSubplot at 0x7fa286bda710>"
            ]
          },
          "metadata": {},
          "execution_count": 196
        },
        {
          "output_type": "display_data",
          "data": {
            "text/plain": [
              "<Figure size 432x288 with 1 Axes>"
            ],
            "image/png": "[encoded data removed]"
          },
          "metadata": {
            "needs_background": "light"
          }
        }
      ]
    },
    {
      "cell_type": "markdown",
      "source": [
        "###Property Available"
      ],
      "metadata": {
        "id": "eONK3sMKj35B"
      }
    },
    {
      "cell_type": "code",
      "source": [
        "#available property\n",
        "\n",
        "north_m_avail = north_m[~((north_m['Method'] == 'S') | (north_m['Method'] == 'SP') | (north_m['Method'] == 'SA'))]\n",
        "north_m_avail.info()"
      ],
      "metadata": {
        "colab": {
          "base_uri": "https://localhost:8080/"
        },
        "id": "U3WawqjFTEE9",
        "outputId": "bcb1ac87-9b67-451f-e90c-ee8a26337591"
      },
      "execution_count": null,
      "outputs": [
        {
          "output_type": "stream",
          "name": "stdout",
          "text": [
            "<class 'pandas.core.frame.DataFrame'>\n",
            "Int64Index: 678 entries, 3 to 13572\n",
            "Data columns (total 21 columns):\n",
            " #   Column         Non-Null Count  Dtype  \n",
            "---  ------         --------------  -----  \n",
            " 0   Suburb         678 non-null    object \n",
            " 1   Address        678 non-null    object \n",
            " 2   Rooms          678 non-null    int64  \n",
            " 3   Type           678 non-null    object \n",
            " 4   Price          678 non-null    float64\n",
            " 5   Method         678 non-null    object \n",
            " 6   SellerG        678 non-null    object \n",
            " 7   Date           678 non-null    object \n",
            " 8   Distance       678 non-null    float64\n",
            " 9   Postcode       678 non-null    float64\n",
            " 10  Bedroom2       678 non-null    float64\n",
            " 11  Bathroom       678 non-null    float64\n",
            " 12  Car            672 non-null    float64\n",
            " 13  Landsize       678 non-null    float64\n",
            " 14  BuildingArea   368 non-null    float64\n",
            " 15  YearBuilt      420 non-null    float64\n",
            " 16  CouncilArea    620 non-null    object \n",
            " 17  Lattitude      678 non-null    float64\n",
            " 18  Longtitude     678 non-null    float64\n",
            " 19  Regionname     678 non-null    object \n",
            " 20  Propertycount  678 non-null    float64\n",
            "dtypes: float64(12), int64(1), object(8)\n",
            "memory usage: 116.5+ KB\n"
          ]
        }
      ]
    },
    {
      "cell_type": "code",
      "source": [
        "# Available housing\n",
        "\n",
        "north_m_avail_h = north_m_avail[north_m_avail['Type'] == 'h']\n",
        "north_m_avail_h.info()"
      ],
      "metadata": {
        "colab": {
          "base_uri": "https://localhost:8080/"
        },
        "id": "hjPAFy-Ijlh1",
        "outputId": "1fa50711-f2c9-41ee-c295-875ad955b962"
      },
      "execution_count": null,
      "outputs": [
        {
          "output_type": "stream",
          "name": "stdout",
          "text": [
            "<class 'pandas.core.frame.DataFrame'>\n",
            "Int64Index: 426 entries, 3 to 13572\n",
            "Data columns (total 21 columns):\n",
            " #   Column         Non-Null Count  Dtype  \n",
            "---  ------         --------------  -----  \n",
            " 0   Suburb         426 non-null    object \n",
            " 1   Address        426 non-null    object \n",
            " 2   Rooms          426 non-null    int64  \n",
            " 3   Type           426 non-null    object \n",
            " 4   Price          426 non-null    float64\n",
            " 5   Method         426 non-null    object \n",
            " 6   SellerG        426 non-null    object \n",
            " 7   Date           426 non-null    object \n",
            " 8   Distance       426 non-null    float64\n",
            " 9   Postcode       426 non-null    float64\n",
            " 10  Bedroom2       426 non-null    float64\n",
            " 11  Bathroom       426 non-null    float64\n",
            " 12  Car            420 non-null    float64\n",
            " 13  Landsize       426 non-null    float64\n",
            " 14  BuildingArea   219 non-null    float64\n",
            " 15  YearBuilt      240 non-null    float64\n",
            " 16  CouncilArea    376 non-null    object \n",
            " 17  Lattitude      426 non-null    float64\n",
            " 18  Longtitude     426 non-null    float64\n",
            " 19  Regionname     426 non-null    object \n",
            " 20  Propertycount  426 non-null    float64\n",
            "dtypes: float64(12), int64(1), object(8)\n",
            "memory usage: 73.2+ KB\n"
          ]
        }
      ]
    },
    {
      "cell_type": "code",
      "source": [
        "# Criteria based on Bedroom and Rooms available in the property\n",
        "\n",
        "north_m_avail_h.groupby(['Rooms', 'Bedroom2'])['Type'].count().plot(kind=\"bar\", title=\"Total Property with Its Rooms, Bedrooms\", color='#FDAF75')"
      ],
      "metadata": {
        "colab": {
          "base_uri": "https://localhost:8080/",
          "height": 352
        },
        "id": "cBBfepg8TZT7",
        "outputId": "17141aee-9808-4024-91fd-45ec27d99089"
      },
      "execution_count": null,
      "outputs": [
        {
          "output_type": "execute_result",
          "data": {
            "text/plain": [
              "<matplotlib.axes._subplots.AxesSubplot at 0x7fa286cc0290>"
            ]
          },
          "metadata": {},
          "execution_count": 195
        },
        {
          "output_type": "display_data",
          "data": {
            "text/plain": [
              "<Figure size 432x288 with 1 Axes>"
            ],
            "image/png": "[encoded data removed]"
          },
          "metadata": {
            "needs_background": "light"
          }
        }
      ]
    },
    {
      "cell_type": "code",
      "source": [
        "# Specify the houses with 3 rooms and 3 bedrooms\n",
        "\n",
        "north_m_avail_r3_br3 = north_m_avail_h[(north_m_avail_h['Rooms'] == 3) & (north_m_avail_h['Bedroom2'] == 3.0)]\n",
        "north_m_avail_r3_br3.info()"
      ],
      "metadata": {
        "colab": {
          "base_uri": "https://localhost:8080/"
        },
        "id": "h5yD6TL5Ub4_",
        "outputId": "4bd325c5-50e2-41d4-b607-99faf22dfe41"
      },
      "execution_count": null,
      "outputs": [
        {
          "output_type": "stream",
          "name": "stdout",
          "text": [
            "<class 'pandas.core.frame.DataFrame'>\n",
            "Int64Index: 197 entries, 3 to 13529\n",
            "Data columns (total 21 columns):\n",
            " #   Column         Non-Null Count  Dtype  \n",
            "---  ------         --------------  -----  \n",
            " 0   Suburb         197 non-null    object \n",
            " 1   Address        197 non-null    object \n",
            " 2   Rooms          197 non-null    int64  \n",
            " 3   Type           197 non-null    object \n",
            " 4   Price          197 non-null    float64\n",
            " 5   Method         197 non-null    object \n",
            " 6   SellerG        197 non-null    object \n",
            " 7   Date           197 non-null    object \n",
            " 8   Distance       197 non-null    float64\n",
            " 9   Postcode       197 non-null    float64\n",
            " 10  Bedroom2       197 non-null    float64\n",
            " 11  Bathroom       197 non-null    float64\n",
            " 12  Car            194 non-null    float64\n",
            " 13  Landsize       197 non-null    float64\n",
            " 14  BuildingArea   91 non-null     float64\n",
            " 15  YearBuilt      103 non-null    float64\n",
            " 16  CouncilArea    176 non-null    object \n",
            " 17  Lattitude      197 non-null    float64\n",
            " 18  Longtitude     197 non-null    float64\n",
            " 19  Regionname     197 non-null    object \n",
            " 20  Propertycount  197 non-null    float64\n",
            "dtypes: float64(12), int64(1), object(8)\n",
            "memory usage: 33.9+ KB\n"
          ]
        }
      ]
    },
    {
      "cell_type": "code",
      "source": [
        "# Identify relation between Price and Distance\n",
        "\n",
        "north_m_avail_r3_br3.plot('Price', 'Distance', kind = 'scatter', color='#FDAF75', title='Price & Distance (With Outliers)')"
      ],
      "metadata": {
        "colab": {
          "base_uri": "https://localhost:8080/",
          "height": 313
        },
        "id": "RhM2I9zbYYKY",
        "outputId": "2fc370b1-c349-4fd3-9448-4bb77677e0fc"
      },
      "execution_count": null,
      "outputs": [
        {
          "output_type": "execute_result",
          "data": {
            "text/plain": [
              "<matplotlib.axes._subplots.AxesSubplot at 0x7fa2870f99d0>"
            ]
          },
          "metadata": {},
          "execution_count": 221
        },
        {
          "output_type": "display_data",
          "data": {
            "text/plain": [
              "<Figure size 432x288 with 1 Axes>"
            ],
            "image/png": "[encoded data removed]"
          },
          "metadata": {
            "needs_background": "light"
          }
        }
      ]
    },
    {
      "cell_type": "markdown",
      "source": [
        "###Outliers for Final Dataset"
      ],
      "metadata": {
        "id": "_GnwZNfhomrb"
      }
    },
    {
      "cell_type": "code",
      "source": [
        "# Outliers in the Dataset\n",
        "\n",
        "north_m_avail_r3_br3.plot('Distance', 'Price', kind='box', color='#FDAF75', title='Price Value Distribution')"
      ],
      "metadata": {
        "colab": {
          "base_uri": "https://localhost:8080/",
          "height": 299
        },
        "id": "bXPJg7eFpnPT",
        "outputId": "35a24146-f341-4a0b-b4e3-3eb62c3a197f"
      },
      "execution_count": null,
      "outputs": [
        {
          "output_type": "execute_result",
          "data": {
            "text/plain": [
              "<matplotlib.axes._subplots.AxesSubplot at 0x7fa287207cd0>"
            ]
          },
          "metadata": {},
          "execution_count": 222
        },
        {
          "output_type": "display_data",
          "data": {
            "text/plain": [
              "<Figure size 432x288 with 1 Axes>"
            ],
            "image/png": "[encoded data removed]"
          },
          "metadata": {
            "needs_background": "light"
          }
        }
      ]
    },
    {
      "cell_type": "code",
      "source": [
        "# Specify outliers from 'Price' column in the final housing data\n",
        "\n",
        "\n",
        "Q1 = north_m_avail_r3_br3['Price'].quantile(0.25)\n",
        "Q3 = north_m_avail_r3_br3['Price'].quantile(0.75)\n",
        "IQR = Q3 - Q1\n",
        "\n",
        "north_m_avail_r3_br3.loc[north_m_avail_r3_br3['Price'] < (Q1-IQR*1.5), 'Price'] = Q1\n",
        "north_m_avail_r3_br3.loc[north_m_avail_r3_br3['Price'] > (Q3+IQR*1.5), 'Price'] = Q3\n",
        "\n",
        "fig, ax = plt.subplots(figsize=(12,8))\n",
        "ax.scatter('Price', 'Distance', data = north_m_avail_r3_br3, color='#FDAF75')\n",
        "ax.set_title('Price & Distance (Without Outliers)')\n",
        "ax.set_xlabel('Price')\n",
        "ax.set_ylabel('Distance')"
      ],
      "metadata": {
        "colab": {
          "base_uri": "https://localhost:8080/",
          "height": 642
        },
        "id": "k_SOMqOxYgQI",
        "outputId": "b6922553-0c45-499f-aeed-653f3995a72c"
      },
      "execution_count": null,
      "outputs": [
        {
          "output_type": "stream",
          "name": "stderr",
          "text": [
            "/usr/local/lib/python3.7/dist-packages/pandas/core/indexing.py:1817: SettingWithCopyWarning: \n",
            "A value is trying to be set on a copy of a slice from a DataFrame.\n",
            "Try using .loc[row_indexer,col_indexer] = value instead\n",
            "\n",
            "See the caveats in the documentation: https://pandas.pydata.org/pandas-docs/stable/user_guide/indexing.html#returning-a-view-versus-a-copy\n",
            "  self._setitem_single_column(loc, value, pi)\n"
          ]
        },
        {
          "output_type": "execute_result",
          "data": {
            "text/plain": [
              "Text(0, 0.5, 'Distance')"
            ]
          },
          "metadata": {},
          "execution_count": 217
        },
        {
          "output_type": "display_data",
          "data": {
            "text/plain": [
              "<Figure size 864x576 with 1 Axes>"
            ],
            "image/png": "[encoded data removed]"
          },
          "metadata": {
            "needs_background": "light"
          }
        }
      ]
    },
    {
      "cell_type": "code",
      "source": [
        "prop_recom = north_m_avail_r3_br3.sort_values(by=(['Distance', 'Price']), ascending=True).head(10)\n",
        "prop_recom"
      ],
      "metadata": {
        "colab": {
          "base_uri": "https://localhost:8080/",
          "height": 664
        },
        "id": "SdBY211MqJ_x",
        "outputId": "d09fca89-91e5-4362-c448-0782c3061c76"
      },
      "execution_count": null,
      "outputs": [
        {
          "output_type": "execute_result",
          "data": {
            "text/plain": [
              "                Suburb            Address  Rooms Type      Price Method  \\\n",
              "9510    East Melbourne     109 Simpson St      3    h  1875000.0     PI   \n",
              "9825           Carlton       254 Elgin St      3    h  1000000.0     PI   \n",
              "2533           Fitzroy      431 George St      3    h  1250000.0     PI   \n",
              "2532           Fitzroy      258 Napier St      3    h  2200000.0     VB   \n",
              "10438  North Melbourne  357 Flemington Rd      3    h  1285000.0     PI   \n",
              "13175          Fitzroy       138 Cecil St      3    h  1210000.0     PI   \n",
              "12497          Fitzroy        101 Kerr St      3    h  1750000.0     VB   \n",
              "11020          Fitzroy        389 Gore St      3    h  2700000.0     VB   \n",
              "9464           Burnley     2/50 Gibdon St      3    h  1100000.0     VB   \n",
              "10486         Richmond       74 Hunter St      3    h  1250000.0     VB   \n",
              "\n",
              "             SellerG        Date  Distance  Postcode  ...  Bathroom  Car  \\\n",
              "9510          Jellis  17/06/2017       1.3    3002.0  ...       1.0  0.0   \n",
              "9825          Jellis  24/06/2017       1.6    3053.0  ...       1.0  0.0   \n",
              "2533          Nelson  17/09/2016       1.6    3065.0  ...       1.0  1.0   \n",
              "2532          Nelson  16/04/2016       1.6    3065.0  ...       2.0  1.0   \n",
              "10438              J  27/05/2017       1.8    3051.0  ...       1.0  1.0   \n",
              "13175         Nelson  23/09/2017       2.1    3065.0  ...       1.0  NaN   \n",
              "12497         Jellis   9/09/2017       2.1    3065.0  ...       1.0  NaN   \n",
              "11020            Kay  12/08/2017       2.1    3065.0  ...       3.0  1.0   \n",
              "9464   hockingstuart  17/06/2017       2.4    3121.0  ...       2.0  2.0   \n",
              "10486         Jellis  27/05/2017       2.4    3121.0  ...       1.0  1.0   \n",
              "\n",
              "       Landsize  BuildingArea  YearBuilt  CouncilArea Lattitude  Longtitude  \\\n",
              "9510      118.0         177.0     1890.0    Melbourne -37.81351   144.98804   \n",
              "9825       96.0          80.0     1910.0    Melbourne -37.79674   144.96563   \n",
              "2533      113.0         105.0     1890.0        Yarra -37.79660   144.98210   \n",
              "2532      187.0           NaN        NaN        Yarra -37.80030   144.98060   \n",
              "10438     170.0         147.0     1990.0    Melbourne -37.79074   144.94324   \n",
              "13175     155.0           NaN        NaN          NaN -37.79451   144.98208   \n",
              "12497     152.0           NaN        NaN          NaN -37.79662   144.97910   \n",
              "11020  433014.0           NaN        NaN        Yarra -37.79751   144.98309   \n",
              "9464     1212.0           NaN     2010.0        Yarra -37.82982   145.01038   \n",
              "10486     111.0           NaN        NaN        Yarra -37.82137   145.00512   \n",
              "\n",
              "                  Regionname Propertycount  \n",
              "9510   Northern Metropolitan        3040.0  \n",
              "9825   Northern Metropolitan        6786.0  \n",
              "2533   Northern Metropolitan        5825.0  \n",
              "2532   Northern Metropolitan        5825.0  \n",
              "10438  Northern Metropolitan        6821.0  \n",
              "13175  Northern Metropolitan        5825.0  \n",
              "12497  Northern Metropolitan        5825.0  \n",
              "11020  Northern Metropolitan        5825.0  \n",
              "9464   Northern Metropolitan         438.0  \n",
              "10486  Northern Metropolitan       14949.0  \n",
              "\n",
              "[10 rows x 21 columns]"
            ],
            "text/html": [
              "\n",
              "  <div id=\"df-2e9563fe-a0f7-4234-bd0c-78859f15b8d1\">\n",
              "    <div class=\"colab-df-container\">\n",
              "      <div>\n",
              "<style scoped>\n",
              "    .dataframe tbody tr th:only-of-type {\n",
              "        vertical-align: middle;\n",
              "    }\n",
              "\n",
              "    .dataframe tbody tr th {\n",
              "        vertical-align: top;\n",
              "    }\n",
              "\n",
              "    .dataframe thead th {\n",
              "        text-align: right;\n",
              "    }\n",
              "</style>\n",
              "<table border=\"1\" class=\"dataframe\">\n",
              "  <thead>\n",
              "    <tr style=\"text-align: right;\">\n",
              "      <th></th>\n",
              "      <th>Suburb</th>\n",
              "      <th>Address</th>\n",
              "      <th>Rooms</th>\n",
              "      <th>Type</th>\n",
              "      <th>Price</th>\n",
              "      <th>Method</th>\n",
              "      <th>SellerG</th>\n",
              "      <th>Date</th>\n",
              "      <th>Distance</th>\n",
              "      <th>Postcode</th>\n",
              "      <th>...</th>\n",
              "      <th>Bathroom</th>\n",
              "      <th>Car</th>\n",
              "      <th>Landsize</th>\n",
              "      <th>BuildingArea</th>\n",
              "      <th>YearBuilt</th>\n",
              "      <th>CouncilArea</th>\n",
              "      <th>Lattitude</th>\n",
              "      <th>Longtitude</th>\n",
              "      <th>Regionname</th>\n",
              "      <th>Propertycount</th>\n",
              "    </tr>\n",
              "  </thead>\n",
              "  <tbody>\n",
              "    <tr>\n",
              "      <th>9510</th>\n",
              "      <td>East Melbourne</td>\n",
              "      <td>109 Simpson St</td>\n",
              "      <td>3</td>\n",
              "      <td>h</td>\n",
              "      <td>1875000.0</td>\n",
              "      <td>PI</td>\n",
              "      <td>Jellis</td>\n",
              "      <td>17/06/2017</td>\n",
              "      <td>1.3</td>\n",
              "      <td>3002.0</td>\n",
              "      <td>...</td>\n",
              "      <td>1.0</td>\n",
              "      <td>0.0</td>\n",
              "      <td>118.0</td>\n",
              "      <td>177.0</td>\n",
              "      <td>1890.0</td>\n",
              "      <td>Melbourne</td>\n",
              "      <td>-37.81351</td>\n",
              "      <td>144.98804</td>\n",
              "      <td>Northern Metropolitan</td>\n",
              "      <td>3040.0</td>\n",
              "    </tr>\n",
              "    <tr>\n",
              "      <th>9825</th>\n",
              "      <td>Carlton</td>\n",
              "      <td>254 Elgin St</td>\n",
              "      <td>3</td>\n",
              "      <td>h</td>\n",
              "      <td>1000000.0</td>\n",
              "      <td>PI</td>\n",
              "      <td>Jellis</td>\n",
              "      <td>24/06/2017</td>\n",
              "      <td>1.6</td>\n",
              "      <td>3053.0</td>\n",
              "      <td>...</td>\n",
              "      <td>1.0</td>\n",
              "      <td>0.0</td>\n",
              "      <td>96.0</td>\n",
              "      <td>80.0</td>\n",
              "      <td>1910.0</td>\n",
              "      <td>Melbourne</td>\n",
              "      <td>-37.79674</td>\n",
              "      <td>144.96563</td>\n",
              "      <td>Northern Metropolitan</td>\n",
              "      <td>6786.0</td>\n",
              "    </tr>\n",
              "    <tr>\n",
              "      <th>2533</th>\n",
              "      <td>Fitzroy</td>\n",
              "      <td>431 George St</td>\n",
              "      <td>3</td>\n",
              "      <td>h</td>\n",
              "      <td>1250000.0</td>\n",
              "      <td>PI</td>\n",
              "      <td>Nelson</td>\n",
              "      <td>17/09/2016</td>\n",
              "      <td>1.6</td>\n",
              "      <td>3065.0</td>\n",
              "      <td>...</td>\n",
              "      <td>1.0</td>\n",
              "      <td>1.0</td>\n",
              "      <td>113.0</td>\n",
              "      <td>105.0</td>\n",
              "      <td>1890.0</td>\n",
              "      <td>Yarra</td>\n",
              "      <td>-37.79660</td>\n",
              "      <td>144.98210</td>\n",
              "      <td>Northern Metropolitan</td>\n",
              "      <td>5825.0</td>\n",
              "    </tr>\n",
              "    <tr>\n",
              "      <th>2532</th>\n",
              "      <td>Fitzroy</td>\n",
              "      <td>258 Napier St</td>\n",
              "      <td>3</td>\n",
              "      <td>h</td>\n",
              "      <td>2200000.0</td>\n",
              "      <td>VB</td>\n",
              "      <td>Nelson</td>\n",
              "      <td>16/04/2016</td>\n",
              "      <td>1.6</td>\n",
              "      <td>3065.0</td>\n",
              "      <td>...</td>\n",
              "      <td>2.0</td>\n",
              "      <td>1.0</td>\n",
              "      <td>187.0</td>\n",
              "      <td>NaN</td>\n",
              "      <td>NaN</td>\n",
              "      <td>Yarra</td>\n",
              "      <td>-37.80030</td>\n",
              "      <td>144.98060</td>\n",
              "      <td>Northern Metropolitan</td>\n",
              "      <td>5825.0</td>\n",
              "    </tr>\n",
              "    <tr>\n",
              "      <th>10438</th>\n",
              "      <td>North Melbourne</td>\n",
              "      <td>357 Flemington Rd</td>\n",
              "      <td>3</td>\n",
              "      <td>h</td>\n",
              "      <td>1285000.0</td>\n",
              "      <td>PI</td>\n",
              "      <td>J</td>\n",
              "      <td>27/05/2017</td>\n",
              "      <td>1.8</td>\n",
              "      <td>3051.0</td>\n",
              "      <td>...</td>\n",
              "      <td>1.0</td>\n",
              "      <td>1.0</td>\n",
              "      <td>170.0</td>\n",
              "      <td>147.0</td>\n",
              "      <td>1990.0</td>\n",
              "      <td>Melbourne</td>\n",
              "      <td>-37.79074</td>\n",
              "      <td>144.94324</td>\n",
              "      <td>Northern Metropolitan</td>\n",
              "      <td>6821.0</td>\n",
              "    </tr>\n",
              "    <tr>\n",
              "      <th>13175</th>\n",
              "      <td>Fitzroy</td>\n",
              "      <td>138 Cecil St</td>\n",
              "      <td>3</td>\n",
              "      <td>h</td>\n",
              "      <td>1210000.0</td>\n",
              "      <td>PI</td>\n",
              "      <td>Nelson</td>\n",
              "      <td>23/09/2017</td>\n",
              "      <td>2.1</td>\n",
              "      <td>3065.0</td>\n",
              "      <td>...</td>\n",
              "      <td>1.0</td>\n",
              "      <td>NaN</td>\n",
              "      <td>155.0</td>\n",
              "      <td>NaN</td>\n",
              "      <td>NaN</td>\n",
              "      <td>NaN</td>\n",
              "      <td>-37.79451</td>\n",
              "      <td>144.98208</td>\n",
              "      <td>Northern Metropolitan</td>\n",
              "      <td>5825.0</td>\n",
              "    </tr>\n",
              "    <tr>\n",
              "      <th>12497</th>\n",
              "      <td>Fitzroy</td>\n",
              "      <td>101 Kerr St</td>\n",
              "      <td>3</td>\n",
              "      <td>h</td>\n",
              "      <td>1750000.0</td>\n",
              "      <td>VB</td>\n",
              "      <td>Jellis</td>\n",
              "      <td>9/09/2017</td>\n",
              "      <td>2.1</td>\n",
              "      <td>3065.0</td>\n",
              "      <td>...</td>\n",
              "      <td>1.0</td>\n",
              "      <td>NaN</td>\n",
              "      <td>152.0</td>\n",
              "      <td>NaN</td>\n",
              "      <td>NaN</td>\n",
              "      <td>NaN</td>\n",
              "      <td>-37.79662</td>\n",
              "      <td>144.97910</td>\n",
              "      <td>Northern Metropolitan</td>\n",
              "      <td>5825.0</td>\n",
              "    </tr>\n",
              "    <tr>\n",
              "      <th>11020</th>\n",
              "      <td>Fitzroy</td>\n",
              "      <td>389 Gore St</td>\n",
              "      <td>3</td>\n",
              "      <td>h</td>\n",
              "      <td>2700000.0</td>\n",
              "      <td>VB</td>\n",
              "      <td>Kay</td>\n",
              "      <td>12/08/2017</td>\n",
              "      <td>2.1</td>\n",
              "      <td>3065.0</td>\n",
              "      <td>...</td>\n",
              "      <td>3.0</td>\n",
              "      <td>1.0</td>\n",
              "      <td>433014.0</td>\n",
              "      <td>NaN</td>\n",
              "      <td>NaN</td>\n",
              "      <td>Yarra</td>\n",
              "      <td>-37.79751</td>\n",
              "      <td>144.98309</td>\n",
              "      <td>Northern Metropolitan</td>\n",
              "      <td>5825.0</td>\n",
              "    </tr>\n",
              "    <tr>\n",
              "      <th>9464</th>\n",
              "      <td>Burnley</td>\n",
              "      <td>2/50 Gibdon St</td>\n",
              "      <td>3</td>\n",
              "      <td>h</td>\n",
              "      <td>1100000.0</td>\n",
              "      <td>VB</td>\n",
              "      <td>hockingstuart</td>\n",
              "      <td>17/06/2017</td>\n",
              "      <td>2.4</td>\n",
              "      <td>3121.0</td>\n",
              "      <td>...</td>\n",
              "      <td>2.0</td>\n",
              "      <td>2.0</td>\n",
              "      <td>1212.0</td>\n",
              "      <td>NaN</td>\n",
              "      <td>2010.0</td>\n",
              "      <td>Yarra</td>\n",
              "      <td>-37.82982</td>\n",
              "      <td>145.01038</td>\n",
              "      <td>Northern Metropolitan</td>\n",
              "      <td>438.0</td>\n",
              "    </tr>\n",
              "    <tr>\n",
              "      <th>10486</th>\n",
              "      <td>Richmond</td>\n",
              "      <td>74 Hunter St</td>\n",
              "      <td>3</td>\n",
              "      <td>h</td>\n",
              "      <td>1250000.0</td>\n",
              "      <td>VB</td>\n",
              "      <td>Jellis</td>\n",
              "      <td>27/05/2017</td>\n",
              "      <td>2.4</td>\n",
              "      <td>3121.0</td>\n",
              "      <td>...</td>\n",
              "      <td>1.0</td>\n",
              "      <td>1.0</td>\n",
              "      <td>111.0</td>\n",
              "      <td>NaN</td>\n",
              "      <td>NaN</td>\n",
              "      <td>Yarra</td>\n",
              "      <td>-37.82137</td>\n",
              "      <td>145.00512</td>\n",
              "      <td>Northern Metropolitan</td>\n",
              "      <td>14949.0</td>\n",
              "    </tr>\n",
              "  </tbody>\n",
              "</table>\n",
              "<p>10 rows × 21 columns</p>\n",
              "</div>\n",
              "      <button class=\"colab-df-convert\" onclick=\"convertToInteractive('df-2e9563fe-a0f7-4234-bd0c-78859f15b8d1')\"\n",
              "              title=\"Convert this dataframe to an interactive table.\"\n",
              "              style=\"display:none;\">\n",
              "        \n",
              "  <svg xmlns=\"http://www.w3.org/2000/svg\" height=\"24px\"viewBox=\"0 0 24 24\"\n",
              "       width=\"24px\">\n",
              "    <path d=\"M0 0h24v24H0V0z\" fill=\"none\"/>\n",
              "    <path d=\"M18.56 5.44l.94 2.06.94-2.06 2.06-.94-2.06-.94-.94-2.06-.94 2.06-2.06.94zm-11 1L8.5 8.5l.94-2.06 2.06-.94-2.06-.94L8.5 2.5l-.94 2.06-2.06.94zm10 10l.94 2.06.94-2.06 2.06-.94-2.06-.94-.94-2.06-.94 2.06-2.06.94z\"/><path d=\"M17.41 7.96l-1.37-1.37c-.4-.4-.92-.59-1.43-.59-.52 0-1.04.2-1.43.59L10.3 9.45l-7.72 7.72c-.78.78-.78 2.05 0 2.83L4 21.41c.39.39.9.59 1.41.59.51 0 1.02-.2 1.41-.59l7.78-7.78 2.81-2.81c.8-.78.8-2.07 0-2.86zM5.41 20L4 18.59l7.72-7.72 1.47 1.35L5.41 20z\"/>\n",
              "  </svg>\n",
              "      </button>\n",
              "      \n",
              "  <style>\n",
              "    .colab-df-container {\n",
              "      display:flex;\n",
              "      flex-wrap:wrap;\n",
              "      gap: 12px;\n",
              "    }\n",
              "\n",
              "    .colab-df-convert {\n",
              "      background-color: #E8F0FE;\n",
              "      border: none;\n",
              "      border-radius: 50%;\n",
              "      cursor: pointer;\n",
              "      display: none;\n",
              "      fill: #1967D2;\n",
              "      height: 32px;\n",
              "      padding: 0 0 0 0;\n",
              "      width: 32px;\n",
              "    }\n",
              "\n",
              "    .colab-df-convert:hover {\n",
              "      background-color: #E2EBFA;\n",
              "      box-shadow: 0px 1px 2px rgba(60, 64, 67, 0.3), 0px 1px 3px 1px rgba(60, 64, 67, 0.15);\n",
              "      fill: #174EA6;\n",
              "    }\n",
              "\n",
              "    [theme=dark] .colab-df-convert {\n",
              "      background-color: #3B4455;\n",
              "      fill: #D2E3FC;\n",
              "    }\n",
              "\n",
              "    [theme=dark] .colab-df-convert:hover {\n",
              "      background-color: #434B5C;\n",
              "      box-shadow: 0px 1px 3px 1px rgba(0, 0, 0, 0.15);\n",
              "      filter: drop-shadow(0px 1px 2px rgba(0, 0, 0, 0.3));\n",
              "      fill: #FFFFFF;\n",
              "    }\n",
              "  </style>\n",
              "\n",
              "      <script>\n",
              "        const buttonEl =\n",
              "          document.querySelector('#df-2e9563fe-a0f7-4234-bd0c-78859f15b8d1 button.colab-df-convert');\n",
              "        buttonEl.style.display =\n",
              "          google.colab.kernel.accessAllowed ? 'block' : 'none';\n",
              "\n",
              "        async function convertToInteractive(key) {\n",
              "          const element = document.querySelector('#df-2e9563fe-a0f7-4234-bd0c-78859f15b8d1');\n",
              "          const dataTable =\n",
              "            await google.colab.kernel.invokeFunction('convertToInteractive',\n",
              "                                                     [key], {});\n",
              "          if (!dataTable) return;\n",
              "\n",
              "          const docLinkHtml = 'Like what you see? Visit the ' +\n",
              "            '<a target=\"_blank\" href=https://colab.research.google.com/notebooks/data_table.ipynb>data table notebook</a>'\n",
              "            + ' to learn more about interactive tables.';\n",
              "          element.innerHTML = '';\n",
              "          dataTable['output_type'] = 'display_data';\n",
              "          await google.colab.output.renderOutput(dataTable, element);\n",
              "          const docLink = document.createElement('div');\n",
              "          docLink.innerHTML = docLinkHtml;\n",
              "          element.appendChild(docLink);\n",
              "        }\n",
              "      </script>\n",
              "    </div>\n",
              "  </div>\n",
              "  "
            ]
          },
          "metadata": {},
          "execution_count": 224
        }
      ]
    },
    {
      "cell_type": "code",
      "source": [
        "prop_recom.to_csv('final_recom.csv', index=True)"
      ],
      "metadata": {
        "id": "fnoFnM2p4F45"
      },
      "execution_count": null,
      "outputs": []
    },
    {
      "cell_type": "markdown",
      "source": [
        "##Graphic"
      ],
      "metadata": {
        "id": "R_-nMQfYI7Um"
      }
    },
    {
      "cell_type": "code",
      "source": [
        "#Identify relation between 'Distance' and 'Price' for the Northern Metropolitan Area\n",
        "\n",
        "sns.histplot(data=north_m, x = 'Distance', y = 'Price', cmap='magma_r').set(title='Distance of The Property and The Price')"
      ],
      "metadata": {
        "colab": {
          "base_uri": "https://localhost:8080/",
          "height": 313
        },
        "id": "dK0CW--dQ3Ks",
        "outputId": "d398b016-eed1-478f-e3eb-0cfec0af0bb5"
      },
      "execution_count": null,
      "outputs": [
        {
          "output_type": "execute_result",
          "data": {
            "text/plain": [
              "[Text(0.5, 1.0, 'Distance of The Property and The Price')]"
            ]
          },
          "metadata": {},
          "execution_count": 213
        },
        {
          "output_type": "display_data",
          "data": {
            "text/plain": [
              "<Figure size 432x288 with 1 Axes>"
            ],
            "image/png": "[encoded data removed]"
          },
          "metadata": {
            "needs_background": "light"
          }
        }
      ]
    },
    {
      "cell_type": "code",
      "source": [
        "#Identify relation between 'Distance' and 'Price' for property available in Northern Metropolitan Area\n",
        "\n",
        "sns.histplot(north_m_avail, x = 'Distance', y = 'Price', cmap='magma_r').set(title='Distance of The Property and The Price')"
      ],
      "metadata": {
        "colab": {
          "base_uri": "https://localhost:8080/",
          "height": 313
        },
        "id": "R0JpwwTTRPgK",
        "outputId": "4a4b23b5-b3b8-415e-e752-897d6e0c7807"
      },
      "execution_count": null,
      "outputs": [
        {
          "output_type": "execute_result",
          "data": {
            "text/plain": [
              "[Text(0.5, 1.0, 'Distance of The Property and The Price')]"
            ]
          },
          "metadata": {},
          "execution_count": 212
        },
        {
          "output_type": "display_data",
          "data": {
            "text/plain": [
              "<Figure size 432x288 with 1 Axes>"
            ],
            "image/png": "[encoded data removed]"
          },
          "metadata": {
            "needs_background": "light"
          }
        }
      ]
    },
    {
      "cell_type": "code",
      "source": [
        "# Percentage of Property Sold\n",
        "\n",
        "colors = sns.color_palette('magma_r')\n",
        "\n",
        "fig, ax = plt.subplots(figsize=(12,8))\n",
        "explode = (0.1, 0, 0)\n",
        "north_m_sold['Type'].value_counts().plot(kind='pie', autopct='%.1f%%', colors=colors, explode=explode)\n",
        "plt.title('Percentage of Property Sold in Northern Metropolitan (based on Type)')\n",
        "plt.show()"
      ],
      "metadata": {
        "id": "cn-OWuLIcU7U",
        "colab": {
          "base_uri": "https://localhost:8080/",
          "height": 482
        },
        "outputId": "4d5d7685-c59b-441b-de8d-860e6b59af53"
      },
      "execution_count": null,
      "outputs": [
        {
          "output_type": "display_data",
          "data": {
            "text/plain": [
              "<Figure size 864x576 with 1 Axes>"
            ],
            "image/png": "[encoded data removed]"
          },
          "metadata": {}
        }
      ]
    },
    {
      "cell_type": "code",
      "source": [
        "# Percentage of Property Available\n",
        "\n",
        "colors = sns.color_palette('magma_r')\n",
        "\n",
        "fig, ax = plt.subplots(figsize=(12,8))\n",
        "explode = (0.1, 0, 0)\n",
        "north_m_avail['Type'].value_counts().plot(kind='pie', autopct='%.1f%%', colors=colors, explode=explode)\n",
        "plt.title('Percentage of Property Available in Northern Metropolitan (based on Type)')\n",
        "plt.show()"
      ],
      "metadata": {
        "colab": {
          "base_uri": "https://localhost:8080/",
          "height": 482
        },
        "id": "4BQShbtsMLgv",
        "outputId": "355b8d9f-4992-45ae-a8fa-c70cd9c2cc3b"
      },
      "execution_count": null,
      "outputs": [
        {
          "output_type": "display_data",
          "data": {
            "text/plain": [
              "<Figure size 864x576 with 1 Axes>"
            ],
            "image/png": "[encoded data removed]"
          },
          "metadata": {}
        }
      ]
    },
    {
      "cell_type": "code",
      "source": [
        ""
      ],
      "metadata": {
        "id": "9BVNvoKU1NH9"
      },
      "execution_count": null,
      "outputs": []
    }
  ]
}